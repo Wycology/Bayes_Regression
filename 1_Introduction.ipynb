{
  "nbformat": 4,
  "nbformat_minor": 0,
  "metadata": {
    "colab": {
      "provenance": [],
      "authorship_tag": "ABX9TyPPkv3xMhjpQgyK+2Hr5O+5",
      "include_colab_link": true
    },
    "kernelspec": {
      "name": "python3",
      "display_name": "Python 3"
    },
    "language_info": {
      "name": "python"
    }
  },
  "cells": [
    {
      "cell_type": "markdown",
      "metadata": {
        "id": "view-in-github",
        "colab_type": "text"
      },
      "source": [
        "<a href=\"https://colab.research.google.com/github/Wycology/Bayes_Regression/blob/main/1_Introduction.ipynb\" target=\"_parent\"><img src=\"https://colab.research.google.com/assets/colab-badge.svg\" alt=\"Open In Colab\"/></a>"
      ]
    },
    {
      "cell_type": "markdown",
      "source": [
        "## Background\n",
        "\n",
        "This is one of the best moments to be alive on earth as a data science enthusiast. Where there is ploriferation of data, especially Geospatial Data and tools that can help create meaning out of the data."
      ],
      "metadata": {
        "id": "lAlzZ7fZVqnI"
      }
    },
    {
      "cell_type": "code",
      "execution_count": null,
      "metadata": {
        "id": "o2oZ3tCWUjJf"
      },
      "outputs": [],
      "source": []
    }
  ]
}